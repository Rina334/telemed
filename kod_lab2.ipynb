{
 "cells": [
  {
   "cell_type": "code",
   "execution_count": 1,
   "metadata": {},
   "outputs": [
    {
     "name": "stdout",
     "output_type": "stream",
     "text": [
      "Requirement already satisfied: cryptography in c:\\users\\humen\\appdata\\local\\programs\\python\\python313\\lib\\site-packages (44.0.2)\n",
      "Collecting secrets\n",
      "  Using cached secrets-1.0.2.tar.gz (7.9 kB)\n",
      "  Installing build dependencies: started\n",
      "  Installing build dependencies: finished with status 'done'\n",
      "  Getting requirements to build wheel: started\n",
      "  Getting requirements to build wheel: finished with status 'error'\n",
      "Note: you may need to restart the kernel to use updated packages.\n"
     ]
    },
    {
     "name": "stderr",
     "output_type": "stream",
     "text": [
      "  error: subprocess-exited-with-error\n",
      "  \n",
      "  × Getting requirements to build wheel did not run successfully.\n",
      "  │ exit code: 1\n",
      "  ╰─> [29 lines of output]\n",
      "      Traceback (most recent call last):\n",
      "        File \"<string>\", line 10, in <module>\n",
      "      ModuleNotFoundError: No module named 'OpenSSL'\n",
      "      \n",
      "      During handling of the above exception, another exception occurred:\n",
      "      \n",
      "      Traceback (most recent call last):\n",
      "        File \"c:\\Users\\Humen\\AppData\\Local\\Programs\\Python\\Python313\\Lib\\site-packages\\pip\\_vendor\\pyproject_hooks\\_in_process\\_in_process.py\", line 353, in <module>\n",
      "          main()\n",
      "          ~~~~^^\n",
      "        File \"c:\\Users\\Humen\\AppData\\Local\\Programs\\Python\\Python313\\Lib\\site-packages\\pip\\_vendor\\pyproject_hooks\\_in_process\\_in_process.py\", line 335, in main\n",
      "          json_out['return_val'] = hook(**hook_input['kwargs'])\n",
      "                                   ~~~~^^^^^^^^^^^^^^^^^^^^^^^^\n",
      "        File \"c:\\Users\\Humen\\AppData\\Local\\Programs\\Python\\Python313\\Lib\\site-packages\\pip\\_vendor\\pyproject_hooks\\_in_process\\_in_process.py\", line 118, in get_requires_for_build_wheel\n",
      "          return hook(config_settings)\n",
      "        File \"C:\\Users\\Humen\\AppData\\Local\\Temp\\pip-build-env-dha4lhvs\\overlay\\Lib\\site-packages\\setuptools\\build_meta.py\", line 334, in get_requires_for_build_wheel\n",
      "          return self._get_build_requires(config_settings, requirements=[])\n",
      "                 ~~~~~~~~~~~~~~~~~~~~~~~~^^^^^^^^^^^^^^^^^^^^^^^^^^^^^^^^^^\n",
      "        File \"C:\\Users\\Humen\\AppData\\Local\\Temp\\pip-build-env-dha4lhvs\\overlay\\Lib\\site-packages\\setuptools\\build_meta.py\", line 304, in _get_build_requires\n",
      "          self.run_setup()\n",
      "          ~~~~~~~~~~~~~~^^\n",
      "        File \"C:\\Users\\Humen\\AppData\\Local\\Temp\\pip-build-env-dha4lhvs\\overlay\\Lib\\site-packages\\setuptools\\build_meta.py\", line 522, in run_setup\n",
      "          super().run_setup(setup_script=setup_script)\n",
      "          ~~~~~~~~~~~~~~~~~^^^^^^^^^^^^^^^^^^^^^^^^^^^\n",
      "        File \"C:\\Users\\Humen\\AppData\\Local\\Temp\\pip-build-env-dha4lhvs\\overlay\\Lib\\site-packages\\setuptools\\build_meta.py\", line 320, in run_setup\n",
      "          exec(code, locals())\n",
      "          ~~~~^^^^^^^^^^^^^^^^\n",
      "        File \"<string>\", line 12, in <module>\n",
      "      ImportError: Installing this module requires OpenSSL python bindings\n",
      "      [end of output]\n",
      "  \n",
      "  note: This error originates from a subprocess, and is likely not a problem with pip.\n",
      "\n",
      "[notice] A new release of pip is available: 24.2 -> 25.0.1\n",
      "[notice] To update, run: python.exe -m pip install --upgrade pip\n",
      "error: subprocess-exited-with-error\n",
      "\n",
      "× Getting requirements to build wheel did not run successfully.\n",
      "│ exit code: 1\n",
      "╰─> See above for output.\n",
      "\n",
      "note: This error originates from a subprocess, and is likely not a problem with pip.\n"
     ]
    }
   ],
   "source": [
    "%pip install cryptography secrets pyaes\n"
   ]
  },
  {
   "cell_type": "code",
   "execution_count": 2,
   "metadata": {},
   "outputs": [],
   "source": [
    "import os \n",
    "key = os.urandom(16) \n",
    " \n",
    "from cryptography.hazmat.primitives.ciphers import Cipher, algorithms, modes \n",
    "from cryptography.hazmat.backends import default_backend \n",
    "aesCipher = Cipher(algorithms.AES(key), modes.ECB(), \n",
    "backend=default_backend()) \n",
    "aesEncryptor = aesCipher.encryptor() \n",
    "aesDecryptor = aesCipher.decryptor()"
   ]
  },
  {
   "cell_type": "code",
   "execution_count": 31,
   "metadata": {},
   "outputs": [
    {
     "name": "stdout",
     "output_type": "stream",
     "text": [
      "b'This is very secret message for '\n",
      "b\")\\xd1\\x93'\\x85\\xaf\\xb1\\x151\\xb9\\x8a\\xc5\\x16\\xa0\\x1e\\xb2\"\n"
     ]
    }
   ],
   "source": [
    "encrypter_message= b'\\x08r\\x9b*\\xeee\\x96a\\xafdY\\x05F\\t:\\x95:I.\\xabU\\xa6S\\x8a\\xbaw\\xf8V\\x16sa\\xbe'\n",
    "super_secret_key = 1234654# здесь должен быть числовой ключ\n",
    "key = super_secret_key.to_bytes(16, 'big')\n",
    "\n",
    "aesCipher = Cipher(algorithms.AES(key), modes.ECB(), \n",
    "backend=default_backend()) \n",
    "aesEncryptor = aesCipher.encryptor() \n",
    "aesDecryptor = aesCipher.decryptor()\n",
    "\n",
    "print(aesDecryptor.update(encrypter_message))\n",
    "\n",
    "kpop=b'love darina      '\n",
    "polk=aesEncryptor.update(kpop) \n",
    "print(polk)\n"
   ]
  },
  {
   "cell_type": "code",
   "execution_count": 16,
   "metadata": {},
   "outputs": [
    {
     "name": "stdout",
     "output_type": "stream",
     "text": [
      "b'This is very secret message for '\n",
      "b'L\\xe5\\x1d-u\\xe4F\\x81\\x18T\\xa6\\x96\\x93CO0'\n"
     ]
    }
   ],
   "source": [
    "encrypter_message= b'\\x08r\\x9b*\\xeee\\x96a\\xafdY\\x05F\\t:\\x95:I.\\xabU\\xa6S\\x8a\\xbaw\\xf8V\\x16sa\\xbe'\n",
    "super_secret_key = 1234654# здесь должен быть числовой ключ\n",
    "key = super_secret_key.to_bytes(16, 'big')\n",
    "\n",
    "aesCipher = Cipher(algorithms.AES(key), modes.ECB(), \n",
    "backend=default_backend()) \n",
    "aesEncryptor = aesCipher.encryptor() \n",
    "aesDecryptor = aesCipher.decryptor()\n",
    "\n",
    "print(aesDecryptor.update(encrypter_message))\n",
    "\n",
    "pop=b'love narfu                '\n",
    "silk=aesEncryptor.update(pop) \n",
    "print(silk)"
   ]
  },
  {
   "cell_type": "code",
   "execution_count": 32,
   "metadata": {},
   "outputs": [
    {
     "name": "stdout",
     "output_type": "stream",
     "text": [
      "b'This is very secret message for love narfu      '\n"
     ]
    }
   ],
   "source": [
    "kod=b'\\x08r\\x9b*\\xeee\\x96a\\xafdY\\x05F\\t:\\x95:I.\\xabU\\xa6S\\x8a\\xbaw\\xf8V\\x16sa\\xbeL\\xe5\\x1d-u\\xe4F\\x81\\x18T\\xa6\\x96\\x93CO0'\n",
    "print(aesDecryptor.update(kod))"
   ]
  },
  {
   "cell_type": "code",
   "execution_count": null,
   "metadata": {},
   "outputs": [
    {
     "name": "stdout",
     "output_type": "stream",
     "text": [
      "b'^\\xfe@\\x0f\\xb8]\\x82c\\xf4\\xe7E\\xc5*\\x1eB\\xc8\\xe0\\xeb\\x83\\xa3\\xaa\\xba\\xbf\\xfa\\xe8:\\xd1\\xa4\\xfbd\\xd5N'\n"
     ]
    }
   ],
   "source": [
    "m=b'L\\xe5\\x1d-u\\xe4F\\x81\\x18T\\xa6\\x96\\x93CO0)\\xd1\\x93\\x85\\xaf\\xb1\\x151\\xb9\\x8a\\xc5\\x16\\xa0\\x1e\\xb2'\n",
    "print(aesDecryptor.update(m))\n",
    "\n",
    "#заменить байты в зашифрованном сообщении не получится"
   ]
  },
  {
   "cell_type": "code",
   "execution_count": 15,
   "metadata": {},
   "outputs": [
    {
     "name": "stdout",
     "output_type": "stream",
     "text": [
      "b'love darina     '\n"
     ]
    }
   ],
   "source": [
    "k=b\")\\xd1\\x93'\\x85\\xaf\\xb1\\x151\\xb9\\x8a\\xc5\\x16\\xa0\\x1e\\xb2\"\n",
    "print(aesDecryptor.update(k))"
   ]
  },
  {
   "cell_type": "code",
   "execution_count": 13,
   "metadata": {},
   "outputs": [
    {
     "name": "stdout",
     "output_type": "stream",
     "text": [
      "b'love darina'\n",
      "b''\n"
     ]
    }
   ],
   "source": [
    "super_secret_key = 12345# здесь должен быть числовой ключ\n",
    "key = super_secret_key.to_bytes(16, 'big')\n",
    "\n",
    "#2 шифруем сообщение\n",
    "encrypter_message = b'love darina'\n",
    "\n",
    "#3 расшифровываем \n",
    "print(encrypter_message)\n",
    "print(aesDecryptor.update(encrypter_message))\n",
    "\n",
    "\n",
    "#Пример:\n",
    "#encrypter_message= b'\\x08r\\x9b*\\xeee\\x96a\\xafdY\\x05F\\t:\\x95:I.\\xabU\\xa6S\\x8a\\xbaw\\xf8V\\x16sa\\xbe'\n",
    "\n",
    "\n",
    "#super_secret_key = 1234654\n",
    "\n",
    "#print(aesDecryptor.update(encrypter_message))"
   ]
  },
  {
   "cell_type": "code",
   "execution_count": 4,
   "metadata": {},
   "outputs": [
    {
     "ename": "IndentationError",
     "evalue": "expected an indented block after 'with' statement on line 16 (251248864.py, line 17)",
     "output_type": "error",
     "traceback": [
      "\u001b[1;36m  Cell \u001b[1;32mIn[4], line 17\u001b[1;36m\u001b[0m\n\u001b[1;33m    with open(ofile, \"wb+\") as writer:\u001b[0m\n\u001b[1;37m    ^\u001b[0m\n\u001b[1;31mIndentationError\u001b[0m\u001b[1;31m:\u001b[0m expected an indented block after 'with' statement on line 16\n"
     ]
    }
   ],
   "source": [
    "# NEVER USE: ECB is not secure! \n",
    "from cryptography.hazmat.primitives.ciphers import Cipher, algorithms, modes \n",
    "from cryptography.hazmat.backends import default_backend \n",
    " \n",
    "# Alice and Bob's Shared Key \n",
    "test_key=bytes.fromhex('00112233445566778899AABBCCDDEEFF') \n",
    "\n",
    "aesCipher = Cipher(algorithms.AES(test_key), modes.ECB(), \n",
    "backend=default_backend()) \n",
    "aesEncryptor = aesCipher.encryptor() \n",
    "aesDecryptor = aesCipher.decryptor() \n",
    " \n",
    " \n",
    "import sys \n",
    "ifile, ofile = sys.argv[1:3] \n",
    "with open(ifile, \"rb\") as reader:     \n",
    "with open(ofile, \"wb+\") as writer:         \n",
    "image_data = reader.read()         \n",
    "header, body = image_data[:54], image_data[54:]         \n",
    "body += b\"\\x00\"*(16-(len(body)%16))         \n",
    "writer.write(header + aesEncryptor.update(body)) "
   ]
  }
 ],
 "metadata": {
  "kernelspec": {
   "display_name": "Python 3",
   "language": "python",
   "name": "python3"
  },
  "language_info": {
   "codemirror_mode": {
    "name": "ipython",
    "version": 3
   },
   "file_extension": ".py",
   "mimetype": "text/x-python",
   "name": "python",
   "nbconvert_exporter": "python",
   "pygments_lexer": "ipython3",
   "version": "3.13.0"
  }
 },
 "nbformat": 4,
 "nbformat_minor": 2
}
