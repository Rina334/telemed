import hashlib
import string

def generate(alphabet, max_len):     
    if max_len <= 1: return     
    for c in alphabet:         
        yield c     
    for c in alphabet:         
        for next in generate(alphabet, max_len-1):             
            yield c + next 

gen = generate('oka', 2) 

for item in gen:     
    print(item) 

def generate(alphabet, max_len):     
    if max_len <= 1: return     
    for c in alphabet:         
        yield c     
    for c in alphabet:         
        for next in generate(alphabet, max_len-1):             
            yield c + next 

gen = generate('OKA', 2) 

for item2 in gen:     
    print(item2) 

def generate(alphabet, max_len):     
    if max_len <= 1: return     
    for c in alphabet:         
        yield c     
    for c in alphabet:         
        for next in generate(alphabet, max_len-1):             
            yield c + next 

gen = generate('123', 2) 

for item3 in gen:     
    print(item3) 
#password='oka'
res=hashlib.md5(item.encode())
print(res.hexdigest())

#password='OKA'
res=hashlib.md5(item2.encode())
print(res.hexdigest())

#password='123'
res=hashlib.md5(item3.encode())
print(res.hexdigest())
password='1'
res=hashlib.md5(password.encode())
print(res.hexdigest())

password2='2'
res=hashlib.md5(password2.encode())
print(res.hexdigest())

password3='3'
res=hashlib.md5(password3.encode())
print(res.hexdigest())
password='o'
res=hashlib.md5(password.encode())
print(res.hexdigest())

password2='k'
res=hashlib.md5(password2.encode())
print(res.hexdigest())

password3='a'
res=hashlib.md5(password3.encode())
print(res.hexdigest())
password='O'
res=hashlib.md5(password.encode())
print(res.hexdigest())

password2='K'
res=hashlib.md5(password2.encode())
print(res.hexdigest())

password3='A'
res=hashlib.md5(password3.encode())
print(res.hexdigest())
password1='Excuse'
res=hashlib.md5(password1.encode())
print(res.hexdigest())

password2='oka'
res2=hashlib.md5(password2.encode())
print(res2.hexdigest())

password3='OKA'
res3=hashlib.md5(password3.encode())
print(res3.hexdigest())
print(string.digits)
print(string.punctuation)
print(string.ascii_letters)

import time 
start = time.process_time() 
 
gen = generate('123', 2) 
for item in gen:     
    print(item) 
 
finish = time.process_time() 
print('Время работы в секундах: ', finish) 

import time 
start = time.process_time() 
 
gen = generate('OKA', 2) 
for item2 in gen:     
    print(item2) 
 
finish = time.process_time() 
print('Время работы в секундах: ', finish) 

import time 
start = time.process_time() 
 
gen = generate('oka', 2) 
for item3 in gen:     
    print(item3) 
 
finish = time.process_time() 
print('Время работы в секундах: ', finish) 
import hashlib
import string
import time
import itertools

password = 'Excuse'  
res = hashlib.md5(password.encode())  
print(res.hexdigest())

target_hash = "202cb962ac59075b964b07152d234b70"
alphabet = string.ascii_letters
start_time = time.time()

for combination in itertools.product(alphabet, repeat=5):
    password = ''.join(combination)  
    test_hash = hashlib.md5(password.encode()).hexdigest() 
    
    if test_hash == target_hash:
        print(f"Пароль найден: {password}")
        break

finish_time = time.time()
print(f"Время подбора: {finish_time - start_time:.6f} сек")
import hashlib
import string
import time
import itertools
password='albn'
res=hashlib.md5(password1.encode())

print(res.hexdigest())
print(string.digits)
print(string.punctuation)
print(string.ascii_letters)
def generate(alphabet, max_len):     
    if max_len <= 0: return     
    for c in alphabet:         
        yield c     
    for c in alphabet:         
        for next in generate(alphabet, max_len-1):             
            yield c + next 

gen = generate('albn', 4) 

for item in gen:     
    print(item) 
password1='WatsApp'
res1=hashlib.md5(password1.encode())
print(res1.hexdigest())
target_hash = "91a2be22d24236ed66ca446b1dd4f00d"
alphabet = string.printable
start_time = time.time()

for combination in itertools.product(alphabet, repeat=5):
    password = ''.join(combination)  
    test_hash = hashlib.md5(password.encode()).hexdigest() 
    
    if test_hash == target_hash:
        print(f"Пароль найден: {password}")
        break

finish_time = time.time()
print(f"Время подбора: {finish_time - start_time:.6f} сек")
