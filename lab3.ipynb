{
 "cells": [
  {
   "cell_type": "code",
   "execution_count": 2,
   "metadata": {},
   "outputs": [
    {
     "name": "stdout",
     "output_type": "stream",
     "text": [
      "Requirement already satisfied: gmpy2 in c:\\users\\humen\\appdata\\local\\programs\\python\\python313\\lib\\site-packages (2.2.1)Note: you may need to restart the kernel to use updated packages.\n"
     ]
    },
    {
     "name": "stderr",
     "output_type": "stream",
     "text": [
      "\n",
      "[notice] A new release of pip is available: 24.2 -> 25.0.1\n",
      "[notice] To update, run: python.exe -m pip install --upgrade pip\n"
     ]
    },
    {
     "name": "stdout",
     "output_type": "stream",
     "text": [
      "\n"
     ]
    }
   ],
   "source": [
    "%pip install gmpy2"
   ]
  },
  {
   "cell_type": "code",
   "execution_count": 3,
   "metadata": {},
   "outputs": [],
   "source": [
    "import gmpy2\n",
    "from cryptography.hazmat.backends import default_backend\n",
    "from cryptography.hazmat.primitives.asymmetric import rsa\n",
    "from cryptography.hazmat.primitives import serialization\n",
    "\n",
    "# Generate a private key.\n",
    "private_key = rsa.generate_private_key(\n",
    "        public_exponent=65537,\n",
    "        key_size=2048,\n",
    "        backend=default_backend())\n",
    "\n",
    "# Extract the public key from the private key.\n",
    "public_key = private_key.public_key()\n",
    "\n",
    "# Convert the private key into bytes. We won't encrypt it this time.\n",
    "private_key_bytes = private_key.private_bytes(\n",
    "       encoding=serialization.Encoding.PEM,\n",
    "       format=serialization.PrivateFormat.TraditionalOpenSSL,\n",
    "       encryption_algorithm=serialization.NoEncryption()\n",
    "   )\n",
    "\n",
    "# Convert the public key into bytes.\n",
    "public_key_bytes = public_key.public_bytes(\n",
    "       encoding=serialization.Encoding.PEM,\n",
    "       format=serialization.PublicFormat.SubjectPublicKeyInfo\n",
    "   )\n",
    "\n",
    "# Convert the private key bytes back to a key.\n",
    "# Because there is no encryption of the key, there is no password.\n",
    "private_key = serialization.load_pem_private_key(\n",
    "      private_key_bytes,\n",
    "      backend=default_backend(),\n",
    "       password=None)\n",
    "\n",
    "\n",
    "public_key = serialization.load_pem_public_key(\n",
    "          public_key_bytes,\n",
    "      backend=default_backend())\n",
    "\n"
   ]
  },
  {
   "cell_type": "code",
   "execution_count": 4,
   "metadata": {},
   "outputs": [],
   "source": [
    "# for anything other than the practice exercise\n",
    "################\n",
    "def simple_rsa_encrypt(m, publickey):\n",
    "# Public_numbers returns a data structure with the 'e' and 'n' parameters.\n",
    "    numbers = publickey.public_numbers()\n",
    "       # Encryption is(m^e) % n.\n",
    "    return gmpy2.powmod(m, numbers.e, numbers.n)\n",
    "\n",
    "def simple_rsa_decrypt(c, privatekey):\n",
    "# Private_numbers returns a data structure with the 'd' and 'n' parameters.\n",
    "\n",
    "    numbers = privatekey.private_numbers()\n",
    "# Decryption is(c^d) % n.\n",
    "    return gmpy2.powmod(c, numbers.d, numbers.public_numbers.n)\n",
    "#### DANGER ####"
   ]
  },
  {
   "cell_type": "code",
   "execution_count": 5,
   "metadata": {},
   "outputs": [],
   "source": [
    "import os\n",
    "key = os.urandom(16) \n",
    " \n",
    "from cryptography.hazmat.primitives.ciphers import Cipher, algorithms, modes \n",
    "from cryptography.hazmat.backends import default_backend \n",
    "aesCipher = Cipher(algorithms.AES(key), modes.ECB(), \n",
    "backend=default_backend()) \n",
    "aesEncryptor = aesCipher.encryptor() \n",
    "aesDecryptor = aesCipher.decryptor()\n"
   ]
  },
  {
   "cell_type": "code",
   "execution_count": 6,
   "metadata": {},
   "outputs": [
    {
     "name": "stdout",
     "output_type": "stream",
     "text": [
      "b'\\xa8\\x9d\\xf7\\xaf\\xcf2(\\xdd\\x85\\x81\\xff\\xf7\\xa7bc\\xdc'\n"
     ]
    }
   ],
   "source": [
    "m = b'love darina very much'\n",
    "k = aesEncryptor.update(m)\n",
    "print(k)"
   ]
  },
  {
   "cell_type": "code",
   "execution_count": 14,
   "metadata": {},
   "outputs": [
    {
     "name": "stdout",
     "output_type": "stream",
     "text": [
      "b'love darina    love darina very '\n"
     ]
    }
   ],
   "source": [
    "l=b'pd\\xdf\\x00\\xa9\\x97\\x94)~\\x8f?\\x0c[\\xe0)\\x0b\\x81\\xf1\\xcdg\\x19)g\\xe6\\x11\\xac&\\xbbr\\xc0\\n\\x03'\n",
    "\n",
    "print(aesDecryptor.update(l))"
   ]
  },
  {
   "cell_type": "code",
   "execution_count": 7,
   "metadata": {},
   "outputs": [],
   "source": [
    "import hashlib\n",
    "import string\n",
    "import time\n",
    "import itertools"
   ]
  },
  {
   "cell_type": "code",
   "execution_count": 29,
   "metadata": {},
   "outputs": [
    {
     "name": "stdout",
     "output_type": "stream",
     "text": [
      "7e24f2627b21260192e7528ffdc92e98\n"
     ]
    }
   ],
   "source": [
    "password1='lovedarina'\n",
    "res1=hashlib.md5(password1.encode())\n",
    "print(res1.hexdigest())\n"
   ]
  },
  {
   "cell_type": "code",
   "execution_count": 10,
   "metadata": {},
   "outputs": [
    {
     "ename": "KeyboardInterrupt",
     "evalue": "",
     "output_type": "error",
     "traceback": [
      "\u001b[1;31m---------------------------------------------------------------------------\u001b[0m",
      "\u001b[1;31mKeyboardInterrupt\u001b[0m                         Traceback (most recent call last)",
      "Cell \u001b[1;32mIn[10], line 9\u001b[0m\n\u001b[0;32m      6\u001b[0m password \u001b[38;5;241m=\u001b[39m \u001b[38;5;124m'\u001b[39m\u001b[38;5;124m'\u001b[39m\u001b[38;5;241m.\u001b[39mjoin(combination)  \n\u001b[0;32m      7\u001b[0m test_hash \u001b[38;5;241m=\u001b[39m hashlib\u001b[38;5;241m.\u001b[39mmd5(password\u001b[38;5;241m.\u001b[39mencode())\u001b[38;5;241m.\u001b[39mhexdigest() \n\u001b[1;32m----> 9\u001b[0m \u001b[38;5;28;01mif\u001b[39;00m test_hash \u001b[38;5;241m==\u001b[39m target_hash:\n\u001b[0;32m     10\u001b[0m     \u001b[38;5;28mprint\u001b[39m(\u001b[38;5;124mf\u001b[39m\u001b[38;5;124m\"\u001b[39m\u001b[38;5;124mПароль найден: \u001b[39m\u001b[38;5;132;01m{\u001b[39;00mpassword\u001b[38;5;132;01m}\u001b[39;00m\u001b[38;5;124m\"\u001b[39m)\n\u001b[0;32m     11\u001b[0m     \u001b[38;5;28;01mbreak\u001b[39;00m\n",
      "\u001b[1;31mKeyboardInterrupt\u001b[0m: "
     ]
    }
   ],
   "source": [
    "target_hash = \"7e24f2627b21260192e7528ffdc92e98\"\n",
    "alphabet = string.printable\n",
    "start_time = time.time()\n",
    "\n",
    "for combination in itertools.product(alphabet, repeat=10):\n",
    "    password = ''.join(combination)  \n",
    "    test_hash = hashlib.md5(password.encode()).hexdigest() \n",
    "    \n",
    "    if test_hash == target_hash:\n",
    "        print(f\"Пароль найден: {password}\")\n",
    "        break\n",
    "\n",
    "finish_time = time.time()\n",
    "print(f\"Время подбора: {finish_time - start_time:.6f} сек\")"
   ]
  },
  {
   "cell_type": "code",
   "execution_count": 8,
   "metadata": {},
   "outputs": [
    {
     "name": "stdout",
     "output_type": "stream",
     "text": [
      "Оригинальное сообщение: Krymnash\n",
      "Числовое представление: 5436541211099886440\n",
      "Зашифрованное сообщение: 11142679533987911319153554957599232762369819798940566346766438701094315663253294405002114542736854764666925000711420417921107782580386513194917393966560387518738974659918686859633241090648690393604269728242767041875616661300006959308628772391993111984418362691578585006309694209682802786277760925925098430561735177050188083346258473296918622314498826257744371267223331313408843052899328366663260782189918086119129016231923978144067246163278644677296595285548589138124357870518952480477929560514829265484396228772568834288359018684156843883520137294529686236198793654699788570025883465745289620434530597272002387943398\n",
      "Расшифрованное сообщение: Krymnash\n"
     ]
    }
   ],
   "source": [
    "private_key = rsa.generate_private_key(\n",
    "    public_exponent=65537,\n",
    "    key_size=2048,\n",
    "    backend=default_backend()\n",
    ")\n",
    "public_key = private_key.public_key()\n",
    "\n",
    "\n",
    "def text_to_number(text):\n",
    "    return int.from_bytes(text.encode('utf-8'), 'big')\n",
    "\n",
    "\n",
    "def number_to_text(number):\n",
    "    return number.to_bytes((number.bit_length() + 7) // 8, 'big').decode('utf-8')\n",
    "\n",
    "\n",
    "def simple_rsa_encrypt(m, publickey):\n",
    "    numbers = publickey.public_numbers()\n",
    "    return gmpy2.powmod(m, numbers.e, numbers.n)\n",
    "\n",
    "\n",
    "def simple_rsa_decrypt(c, privatekey):\n",
    "    numbers = privatekey.private_numbers()\n",
    "    return gmpy2.powmod(c, numbers.d, numbers.public_numbers.n)\n",
    "\n",
    "\n",
    "message = \"Krymnash\"\n",
    "message_number = text_to_number(message)\n",
    "\n",
    "ciphertext = simple_rsa_encrypt(message_number, public_key)\n",
    "decrypted_number = simple_rsa_decrypt(ciphertext, private_key)\n",
    "decrypted_message = number_to_text(int(decrypted_number))\n",
    "\n",
    "print(\"Оригинальное сообщение:\", message)\n",
    "print(\"Числовое представление:\", message_number)\n",
    "print(\"Зашифрованное сообщение:\", ciphertext)\n",
    "print(\"Расшифрованное сообщение:\", decrypted_message)"
   ]
  },
  {
   "cell_type": "code",
   "execution_count": 22,
   "metadata": {},
   "outputs": [
    {
     "name": "stdout",
     "output_type": "stream",
     "text": [
      "Оригинальное сообщение: abcd\n",
      "Числовое представление: 1633837924\n",
      "Зашифрованное сообщение: 11750558977358453465213957494365901561025491542203222553331638638410877461794627412386979463762058910601943923068799530343640055508552833771180032044567205503135278864514385659735715096188172688703309207818010560269949296457253609399415546541358002027539039633185000583424826709876091747609859025288142040989506010926818227430190069109977363085314859722888334342083689564528430007312665444212721528352879749605019625642327470961246381584025108287261002438375777049406602730716325810484267227005804244122207522159223954933577724829698794783701870718641404293320513618928940783150733749924373726606352077508246854030763\n",
      "Расшифрованное 4-буквенное слово: abcd\n",
      "Перебор 4-буквенного слова занял: 2.67 сек\n",
      "Оригинальное 5-буквенное сообщение: abcdf\n",
      "Зашифрованное 5-буквенное сообщение: 22789251193914800091131531799735993426949700245618351217579212768544176465749420445403590788281713393496463959365567275787510559600638671090589045682388253155808678994016361359828261499799040078333545239640958899743985952704811297797202887419262723126470102019567705611418854529421197142522200790551212980223081778603011928153153060945744414781651016610583700554747928818847606585584916372856938920920510956150793494587128140962833160428860443132794085871877973055883638993194779801431363288633808082755430681480631339359595600223841129511911642121691510750057432211764418073135410608839540253372552808706661600045069\n",
      "Расшифрованное 5-буквенное слово: abcdf\n",
      "Перебор 5-буквенного слова занял: 21.71 сек\n",
      "Перебор 5-буквенных слов дольше в 8.12 раза\n"
     ]
    }
   ],
   "source": [
    "private_key = rsa.generate_private_key(\n",
    "    public_exponent=65537,\n",
    "    key_size=2048,\n",
    "    backend=default_backend()\n",
    ")\n",
    "public_key = private_key.public_key()\n",
    "\n",
    "\n",
    "def text_to_number(text):\n",
    "    return int.from_bytes(text.encode('utf-8'), 'big')\n",
    "\n",
    "\n",
    "def number_to_text(number):\n",
    "    return number.to_bytes((number.bit_length() + 7) // 8, 'big').decode('utf-8', errors='ignore')\n",
    "\n",
    "\n",
    "def simple_rsa_encrypt(m, publickey):\n",
    "    numbers = publickey.public_numbers()\n",
    "    return gmpy2.powmod(m, numbers.e, numbers.n)\n",
    "\n",
    "\n",
    "def simple_rsa_decrypt(c, privatekey):\n",
    "    numbers = privatekey.private_numbers()\n",
    "    return gmpy2.powmod(c, numbers.d, numbers.public_numbers.n)\n",
    "\n",
    "\n",
    "slovo = \"abcd\" \n",
    "slovo_bukv = text_to_number(slovo)\n",
    "\n",
    "\n",
    "ciphertext = simple_rsa_encrypt(slovo_bukv, public_key)\n",
    "print(f\"Оригинальное сообщение: {slovo}\")\n",
    "print(f\"Числовое представление: {slovo_bukv}\")\n",
    "print(f\"Зашифрованное сообщение: {ciphertext}\")\n",
    "\n",
    "def brute_force_decrypt(ciphertext, private_key, max_length):\n",
    "    alphabet = \"abcdefgh\" \n",
    "    \n",
    "    start_time = time.time()\n",
    "\n",
    "    for length in range(1, max_length + 1):\n",
    "        for attempt in itertools.product(alphabet, repeat=length):\n",
    "            attempt_text = ''.join(attempt)\n",
    "            attempt_number = text_to_number(attempt_text)\n",
    "\n",
    "            if attempt_number == simple_rsa_decrypt(ciphertext, private_key):\n",
    "                end_time = time.time()\n",
    "                return attempt_text, end_time - start_time\n",
    "\n",
    "    return None, time.time() - start_time  \n",
    "\n",
    "decrypted_message_4, time_4 = brute_force_decrypt(ciphertext, private_key, 4)\n",
    "print(f\"Расшифрованное 4-буквенное слово: {decrypted_message_4}\")\n",
    "print(f\"Перебор 4-буквенного слова занял: {time_4:.2f} сек\")\n",
    "\n",
    "slovo_5 = \"abcdf\" \n",
    "slovo_bukv_5 = text_to_number(slovo_5)\n",
    "ciphertext = simple_rsa_encrypt(slovo_bukv_5, public_key)\n",
    "print(f\"Оригинальное 5-буквенное сообщение: {slovo_5}\")\n",
    "print(f\"Зашифрованное 5-буквенное сообщение: {ciphertext}\")\n",
    "\n",
    "\n",
    "decrypted_message_5, time_5 = brute_force_decrypt(ciphertext, private_key, 5)\n",
    "print(f\"Расшифрованное 5-буквенное слово: {decrypted_message_5}\")\n",
    "print(f\"Перебор 5-буквенного слова занял: {time_5:.2f} сек\")\n",
    "\n",
    "ratio = time_5 / time_4 if time_4 > 0 else \"N/A\"\n",
    "print(f\"Перебор 5-буквенных слов дольше в {ratio:.2f} раза\")"
   ]
  },
  {
   "cell_type": "code",
   "execution_count": 23,
   "metadata": {},
   "outputs": [
    {
     "name": "stdout",
     "output_type": "stream",
     "text": [
      "Оригинальное сообщение: абвг\n",
      "Числовое представление: 15037748617919254707\n",
      "Зашифрованное сообщение: 353578084101695661687521957167911745643690563428905158128676104380091792874649371236638408420692521811302808007145671182003016607643613825170859220434705893964449686510733175999180375465797602717748129673219168786618964436670472892415348620481681722667206092855490387575413239311987066913680418381963853071676479111994718325020734036435482561089663699920128902446764764850054890860962426677316079453522935843183727602576465742075635874997645846964622197972789313609017065152324377318376345815170538720615755794696319713635034682489050807897409459289027839523239808383371744596783700530087420845556402724512070218172\n",
      "Расшифрованное 4-буквенное слово: абвг\n",
      "Перебор 4-буквенного слова занял: 7.02 сек\n",
      "Оригинальное 5-буквенное сообщение: абвгд\n",
      "Зашифрованное 5-буквенное сообщение: 14826059779677843664639494901798940905997619033942874568462518844953821215702771171252445880112967397963568960355027915191631571214076086663265438410027959147050893263256904531500663256376631028977117770048042969172158790373022876222061792125467747493494702947727400093727471502598951781291100458244257213582826295551559573745314310256142819875075788934691822357009502233949485943337993661185749236729530665016162789877647962188151088389054738126752088282696786387545810152318475506012562236549030179096468963447161604351032481073520742014747699623843966131681274160917890293366337458817221053696596528799704100667303\n",
      "Расшифрованное 5-буквенное слово: абвгд\n",
      "Перебор 5-буквенного слова занял: 56.30 сек\n",
      "Перебор 5-буквенных слов дольше в 8.02 раза\n"
     ]
    }
   ],
   "source": [
    "private_key = rsa.generate_private_key(\n",
    "    public_exponent=65537,\n",
    "    key_size=2048,\n",
    "    backend=default_backend()\n",
    ")\n",
    "public_key = private_key.public_key()\n",
    "\n",
    "\n",
    "def text_to_number(text):\n",
    "    return int.from_bytes(text.encode('utf-8'), 'big')\n",
    "\n",
    "\n",
    "def number_to_text(number):\n",
    "    return number.to_bytes((number.bit_length() + 7) // 8, 'big').decode('utf-8', errors='ignore')\n",
    "\n",
    "\n",
    "def simple_rsa_encrypt(m, publickey):\n",
    "    numbers = publickey.public_numbers()\n",
    "    return gmpy2.powmod(m, numbers.e, numbers.n)\n",
    "\n",
    "\n",
    "def simple_rsa_decrypt(c, privatekey):\n",
    "    numbers = privatekey.private_numbers()\n",
    "    return gmpy2.powmod(c, numbers.d, numbers.public_numbers.n)\n",
    "\n",
    "\n",
    "slovo = \"абвг\" \n",
    "slovo_bukv = text_to_number(slovo)\n",
    "\n",
    "\n",
    "ciphertext = simple_rsa_encrypt(slovo_bukv, public_key)\n",
    "print(f\"Оригинальное сообщение: {slovo}\")\n",
    "print(f\"Числовое представление: {slovo_bukv}\")\n",
    "print(f\"Зашифрованное сообщение: {ciphertext}\")\n",
    "\n",
    "def brute_force_decrypt(ciphertext, private_key, max_length):\n",
    "    alphabet = \"абвгдеёжзи\" \n",
    "    \n",
    "    start_time = time.time()\n",
    "\n",
    "    for length in range(1, max_length + 1):\n",
    "        for attempt in itertools.product(alphabet, repeat=length):\n",
    "            attempt_text = ''.join(attempt)\n",
    "            attempt_number = text_to_number(attempt_text)\n",
    "\n",
    "            if attempt_number == simple_rsa_decrypt(ciphertext, private_key):\n",
    "                end_time = time.time()\n",
    "                return attempt_text, end_time - start_time\n",
    "\n",
    "    return None, time.time() - start_time  \n",
    "\n",
    "decrypted_message_4, time_4 = brute_force_decrypt(ciphertext, private_key, 4)\n",
    "print(f\"Расшифрованное 4-буквенное слово: {decrypted_message_4}\")\n",
    "print(f\"Перебор 4-буквенного слова занял: {time_4:.2f} сек\")\n",
    "\n",
    "slovo_5 = \"абвгд\" \n",
    "slovo_bukv_5 = text_to_number(slovo_5)\n",
    "ciphertext = simple_rsa_encrypt(slovo_bukv_5, public_key)\n",
    "print(f\"Оригинальное 5-буквенное сообщение: {slovo_5}\")\n",
    "print(f\"Зашифрованное 5-буквенное сообщение: {ciphertext}\")\n",
    "\n",
    "\n",
    "decrypted_message_5, time_5 = brute_force_decrypt(ciphertext, private_key, 5)\n",
    "print(f\"Расшифрованное 5-буквенное слово: {decrypted_message_5}\")\n",
    "print(f\"Перебор 5-буквенного слова занял: {time_5:.2f} сек\")\n",
    "\n",
    "ratio = time_5 / time_4 if time_4 > 0 else \"N/A\"\n",
    "print(f\"Перебор 5-буквенных слов дольше в {ratio:.2f} раза\")"
   ]
  },
  {
   "cell_type": "code",
   "execution_count": 1,
   "metadata": {},
   "outputs": [
    {
     "name": "stdout",
     "output_type": "stream",
     "text": [
      "[+] Файл зашифрован: encrypted_image.bin\n",
      "[+] Файл расшифрован: decrypted_image.png\n"
     ]
    }
   ],
   "source": [
    "import os\n",
    "from cryptography.hazmat.backends import default_backend\n",
    "from cryptography.hazmat.primitives.kdf.scrypt import Scrypt\n",
    "from cryptography.hazmat.primitives.ciphers import Cipher, algorithms, modes\n",
    "from cryptography.exceptions import InvalidTag\n",
    "\n",
    "READ_SIZE = 4096\n",
    "\n",
    "def encrypt_file(plainpath, cipherpath, password):\n",
    "    salt = os.urandom(16)\n",
    "    kdf = Scrypt(salt=salt, length=32, n=2**14, r=8, p=1, backend=default_backend())\n",
    "    key = kdf.derive(password)\n",
    "\n",
    "    iv = os.urandom(12)\n",
    "    encryptor = Cipher(algorithms.AES(key), modes.GCM(iv), backend=default_backend()).encryptor()\n",
    "    associated_data = iv + salt\n",
    "    encryptor.authenticate_additional_data(associated_data)\n",
    "\n",
    "    with open(cipherpath, \"wb\") as fcipher:\n",
    "        fcipher.write(associated_data + b\"\\x00\" * 16)  \n",
    "\n",
    "        with open(plainpath, \"rb\") as fplain:\n",
    "            for plaintext in iter(lambda: fplain.read(READ_SIZE), b''):\n",
    "                fcipher.write(encryptor.update(plaintext))\n",
    "            fcipher.write(encryptor.finalize())\n",
    "\n",
    "        fcipher.seek(28)\n",
    "        fcipher.write(encryptor.tag)\n",
    "\n",
    "    print(\"[+] Файл зашифрован:\", cipherpath)\n",
    "\n",
    "\n",
    "def decrypt_file(cipherpath, plainpath, password):\n",
    "    with open(cipherpath, \"rb\") as fcipher:\n",
    "        associated_data = fcipher.read(28)\n",
    "        iv, salt = associated_data[:12], associated_data[12:]\n",
    "\n",
    "        kdf = Scrypt(salt=salt, length=32, n=2**14, r=8, p=1, backend=default_backend())\n",
    "        key = kdf.derive(password)\n",
    "\n",
    "        tag = fcipher.read(16)\n",
    "        decryptor = Cipher(algorithms.AES(key), modes.GCM(iv, tag), backend=default_backend()).decryptor()\n",
    "        decryptor.authenticate_additional_data(associated_data)\n",
    "\n",
    "        try:\n",
    "            with open(plainpath, \"wb\") as fplain:\n",
    "                for ciphertext in iter(lambda: fcipher.read(READ_SIZE), b''):\n",
    "                    fplain.write(decryptor.update(ciphertext))\n",
    "                decryptor.finalize()\n",
    "            print(\"[+] Файл расшифрован:\", plainpath)\n",
    "        except InvalidTag:\n",
    "            print(\"[X] Ошибка: Повреждённые данные или неверный пароль!\")\n",
    "\n",
    "\n",
    "password = b\"supersecretpassword\"\n",
    "encrypt_file(\"unnamed.jpg\", \"encrypted_image.bin\", password)  \n",
    "decrypt_file(\"encrypted_image.bin\", \"decrypted_image.png\", password)"
   ]
  }
 ],
 "metadata": {
  "kernelspec": {
   "display_name": "Python 3",
   "language": "python",
   "name": "python3"
  },
  "language_info": {
   "codemirror_mode": {
    "name": "ipython",
    "version": 3
   },
   "file_extension": ".py",
   "mimetype": "text/x-python",
   "name": "python",
   "nbconvert_exporter": "python",
   "pygments_lexer": "ipython3",
   "version": "3.13.0"
  }
 },
 "nbformat": 4,
 "nbformat_minor": 2
}
